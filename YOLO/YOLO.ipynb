{
 "cells": [
  {
   "cell_type": "markdown",
   "metadata": {},
   "source": [
    "# YOLO Training "
   ]
  },
  {
   "cell_type": "markdown",
   "metadata": {},
   "source": [
    "## Imports and config"
   ]
  },
  {
   "cell_type": "code",
   "execution_count": null,
   "metadata": {},
   "outputs": [],
   "source": [
    "from ultralytics import YOLO"
   ]
  },
  {
   "cell_type": "markdown",
   "metadata": {},
   "source": [
    "## Data loading"
   ]
  },
  {
   "cell_type": "code",
   "execution_count": null,
   "metadata": {},
   "outputs": [],
   "source": [
    "import os\n",
    "from collections import Counter\n",
    "from PIL import Image\n",
    "\n",
    "def get_image_sizes(directory):\n",
    "    sizes = []\n",
    "    for filename in os.listdir(directory):\n",
    "        if filename.endswith(('.jpg', '.jpeg', '.png')):\n",
    "            with Image.open(os.path.join(directory, filename)) as img:\n",
    "                sizes.append(img.size)\n",
    "    return sizes\n",
    "\n",
    "def count_image_sizes(image_sizes):\n",
    "    return Counter(image_sizes)\n",
    "\n",
    "# Define the paths to the train and val image directories\n",
    "train_images_dir = '../AFTI_PMID_SINGLE_CLASS_TESTING_backup_20250215_134318/train/images'\n",
    "val_images_dir = '../AFTI_PMID_SINGLE_CLASS_TESTING_backup_20250215_134318/val/images'\n",
    "\n",
    "# Get image sizes for train and val directories\n",
    "train_image_sizes = get_image_sizes(train_images_dir)\n",
    "val_image_sizes = get_image_sizes(val_images_dir)\n",
    "\n",
    "# Count the occurrences of each image size\n",
    "train_image_size_counts = count_image_sizes(train_image_sizes)\n",
    "val_image_size_counts = count_image_sizes(val_image_sizes)\n",
    "\n",
    "# Print the results\n",
    "print(\"Train image size counts:\")\n",
    "for size, count in train_image_size_counts.items():\n",
    "    print(f\"Size: {size}, Count: {count}\")\n",
    "\n",
    "print(\"\\nVal image size counts:\")\n",
    "for size, count in val_image_size_counts.items():\n",
    "    print(f\"Size: {size}, Count: {count}\")"
   ]
  },
  {
   "cell_type": "markdown",
   "metadata": {},
   "source": [
    "## Model setup"
   ]
  },
  {
   "cell_type": "code",
   "execution_count": null,
   "metadata": {},
   "outputs": [],
   "source": [
    "model = YOLO(\"yolo11n.pt\")\n",
    "\n",
    "results = model.train(data=\"dataset.yaml\", epochs=1, batch=16, imgsz=(1280,960), project=\"runs/testing\", name=\"exp\")"
   ]
  }
 ],
 "metadata": {
  "kernelspec": {
   "display_name": "Python 3",
   "language": "python",
   "name": "python3"
  },
  "language_info": {
   "codemirror_mode": {
    "name": "ipython",
    "version": 3
   },
   "file_extension": ".py",
   "mimetype": "text/x-python",
   "name": "python",
   "nbconvert_exporter": "python",
   "pygments_lexer": "ipython3",
   "version": "3.10.12"
  }
 },
 "nbformat": 4,
 "nbformat_minor": 2
}
